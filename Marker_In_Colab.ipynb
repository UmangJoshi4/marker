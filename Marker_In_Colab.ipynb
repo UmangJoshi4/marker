{
  "cells": [
    {
      "cell_type": "markdown",
      "metadata": {
        "id": "view-in-github",
        "colab_type": "text"
      },
      "source": [
        "<a href=\"https://colab.research.google.com/github/UmangJoshi4/marker/blob/master/Marker_In_Colab.ipynb\" target=\"_parent\"><img src=\"https://colab.research.google.com/assets/colab-badge.svg\" alt=\"Open In Colab\"/></a>"
      ]
    },
    {
      "cell_type": "code",
      "source": [
        "!git clone \"https://github.com/VikParuchuri/marker.git\""
      ],
      "metadata": {
        "id": "E6fCbK5qnnEQ",
        "outputId": "d4f6398c-48ea-43df-cd5c-86ba8b90d16d",
        "colab": {
          "base_uri": "https://localhost:8080/"
        }
      },
      "execution_count": 1,
      "outputs": [
        {
          "output_type": "stream",
          "name": "stdout",
          "text": [
            "fatal: destination path 'marker' already exists and is not an empty directory.\n"
          ]
        }
      ]
    },
    {
      "cell_type": "code",
      "source": [
        "!cd marker && pip install -e ."
      ],
      "metadata": {
        "collapsed": true,
        "id": "-Q3SRoUgoB-A",
        "outputId": "de81d6a2-daad-4d7f-9fca-69aa5c0cdc59",
        "colab": {
          "base_uri": "https://localhost:8080/"
        }
      },
      "execution_count": 2,
      "outputs": [
        {
          "output_type": "stream",
          "name": "stdout",
          "text": [
            "Obtaining file:///content/marker\n",
            "  Installing build dependencies ... \u001b[?25l\u001b[?25hdone\n",
            "  Checking if build backend supports build_editable ... \u001b[?25l\u001b[?25hdone\n",
            "  Getting requirements to build editable ... \u001b[?25l\u001b[?25hdone\n",
            "  Preparing editable metadata (pyproject.toml) ... \u001b[?25l\u001b[?25hdone\n",
            "Requirement already satisfied: Pillow<11.0.0,>=10.1.0 in /usr/local/lib/python3.11/dist-packages (from marker-pdf==1.4.0) (10.4.0)\n",
            "Requirement already satisfied: click<9.0.0,>=8.1.7 in /usr/local/lib/python3.11/dist-packages (from marker-pdf==1.4.0) (8.1.8)\n",
            "Requirement already satisfied: filetype<2.0.0,>=1.2.0 in /usr/local/lib/python3.11/dist-packages (from marker-pdf==1.4.0) (1.2.0)\n",
            "Requirement already satisfied: ftfy<7.0.0,>=6.1.1 in /usr/local/lib/python3.11/dist-packages (from marker-pdf==1.4.0) (6.3.1)\n",
            "Requirement already satisfied: google-genai<2.0.0,>=1.0.0 in /usr/local/lib/python3.11/dist-packages (from marker-pdf==1.4.0) (1.1.0)\n",
            "Requirement already satisfied: markdown2<3.0.0,>=2.5.2 in /usr/local/lib/python3.11/dist-packages (from marker-pdf==1.4.0) (2.5.3)\n",
            "Requirement already satisfied: markdownify<0.14.0,>=0.13.1 in /usr/local/lib/python3.11/dist-packages (from marker-pdf==1.4.0) (0.13.1)\n",
            "Requirement already satisfied: pdftext<0.6.0,>=0.5.1 in /usr/local/lib/python3.11/dist-packages (from marker-pdf==1.4.0) (0.5.1)\n",
            "Requirement already satisfied: pydantic<3.0.0,>=2.4.2 in /usr/local/lib/python3.11/dist-packages (from marker-pdf==1.4.0) (2.10.6)\n",
            "Requirement already satisfied: pydantic-settings<3.0.0,>=2.0.3 in /usr/local/lib/python3.11/dist-packages (from marker-pdf==1.4.0) (2.7.1)\n",
            "Requirement already satisfied: python-dotenv<2.0.0,>=1.0.0 in /usr/local/lib/python3.11/dist-packages (from marker-pdf==1.4.0) (1.0.1)\n",
            "Requirement already satisfied: rapidfuzz<4.0.0,>=3.8.1 in /usr/local/lib/python3.11/dist-packages (from marker-pdf==1.4.0) (3.12.1)\n",
            "Requirement already satisfied: regex<2025.0.0,>=2024.4.28 in /usr/local/lib/python3.11/dist-packages (from marker-pdf==1.4.0) (2024.11.6)\n",
            "Requirement already satisfied: scikit-learn<2.0.0,>=1.6.1 in /usr/local/lib/python3.11/dist-packages (from marker-pdf==1.4.0) (1.6.1)\n",
            "Requirement already satisfied: surya-ocr<0.12.0,>=0.11.0 in /usr/local/lib/python3.11/dist-packages (from marker-pdf==1.4.0) (0.11.0)\n",
            "Requirement already satisfied: torch<3.0.0,>=2.5.1 in /usr/local/lib/python3.11/dist-packages (from marker-pdf==1.4.0) (2.5.1+cu124)\n",
            "Requirement already satisfied: tqdm<5.0.0,>=4.66.1 in /usr/local/lib/python3.11/dist-packages (from marker-pdf==1.4.0) (4.67.1)\n",
            "Requirement already satisfied: transformers<5.0.0,>=4.45.2 in /usr/local/lib/python3.11/dist-packages (from marker-pdf==1.4.0) (4.48.2)\n",
            "Requirement already satisfied: wcwidth in /usr/local/lib/python3.11/dist-packages (from ftfy<7.0.0,>=6.1.1->marker-pdf==1.4.0) (0.2.13)\n",
            "Requirement already satisfied: google-auth<3.0.0dev,>=2.14.1 in /usr/local/lib/python3.11/dist-packages (from google-genai<2.0.0,>=1.0.0->marker-pdf==1.4.0) (2.27.0)\n",
            "Requirement already satisfied: requests<3.0.0dev,>=2.28.1 in /usr/local/lib/python3.11/dist-packages (from google-genai<2.0.0,>=1.0.0->marker-pdf==1.4.0) (2.32.3)\n",
            "Requirement already satisfied: websockets<15.0dev,>=13.0 in /usr/local/lib/python3.11/dist-packages (from google-genai<2.0.0,>=1.0.0->marker-pdf==1.4.0) (14.2)\n",
            "Requirement already satisfied: beautifulsoup4<5,>=4.9 in /usr/local/lib/python3.11/dist-packages (from markdownify<0.14.0,>=0.13.1->marker-pdf==1.4.0) (4.13.3)\n",
            "Requirement already satisfied: six<2,>=1.15 in /usr/local/lib/python3.11/dist-packages (from markdownify<0.14.0,>=0.13.1->marker-pdf==1.4.0) (1.17.0)\n",
            "Requirement already satisfied: pypdfium2==4.30.0 in /usr/local/lib/python3.11/dist-packages (from pdftext<0.6.0,>=0.5.1->marker-pdf==1.4.0) (4.30.0)\n",
            "Requirement already satisfied: annotated-types>=0.6.0 in /usr/local/lib/python3.11/dist-packages (from pydantic<3.0.0,>=2.4.2->marker-pdf==1.4.0) (0.7.0)\n",
            "Requirement already satisfied: pydantic-core==2.27.2 in /usr/local/lib/python3.11/dist-packages (from pydantic<3.0.0,>=2.4.2->marker-pdf==1.4.0) (2.27.2)\n",
            "Requirement already satisfied: typing-extensions>=4.12.2 in /usr/local/lib/python3.11/dist-packages (from pydantic<3.0.0,>=2.4.2->marker-pdf==1.4.0) (4.12.2)\n",
            "Requirement already satisfied: numpy>=1.19.5 in /usr/local/lib/python3.11/dist-packages (from scikit-learn<2.0.0,>=1.6.1->marker-pdf==1.4.0) (1.26.4)\n",
            "Requirement already satisfied: scipy>=1.6.0 in /usr/local/lib/python3.11/dist-packages (from scikit-learn<2.0.0,>=1.6.1->marker-pdf==1.4.0) (1.13.1)\n",
            "Requirement already satisfied: joblib>=1.2.0 in /usr/local/lib/python3.11/dist-packages (from scikit-learn<2.0.0,>=1.6.1->marker-pdf==1.4.0) (1.4.2)\n",
            "Requirement already satisfied: threadpoolctl>=3.1.0 in /usr/local/lib/python3.11/dist-packages (from scikit-learn<2.0.0,>=1.6.1->marker-pdf==1.4.0) (3.5.0)\n",
            "Requirement already satisfied: opencv-python<5.0.0.0,>=4.9.0.80 in /usr/local/lib/python3.11/dist-packages (from surya-ocr<0.12.0,>=0.11.0->marker-pdf==1.4.0) (4.11.0.86)\n",
            "Requirement already satisfied: filelock in /usr/local/lib/python3.11/dist-packages (from torch<3.0.0,>=2.5.1->marker-pdf==1.4.0) (3.17.0)\n",
            "Requirement already satisfied: networkx in /usr/local/lib/python3.11/dist-packages (from torch<3.0.0,>=2.5.1->marker-pdf==1.4.0) (3.4.2)\n",
            "Requirement already satisfied: jinja2 in /usr/local/lib/python3.11/dist-packages (from torch<3.0.0,>=2.5.1->marker-pdf==1.4.0) (3.1.5)\n",
            "Requirement already satisfied: fsspec in /usr/local/lib/python3.11/dist-packages (from torch<3.0.0,>=2.5.1->marker-pdf==1.4.0) (2024.10.0)\n",
            "Requirement already satisfied: nvidia-cuda-nvrtc-cu12==12.4.127 in /usr/local/lib/python3.11/dist-packages (from torch<3.0.0,>=2.5.1->marker-pdf==1.4.0) (12.4.127)\n",
            "Requirement already satisfied: nvidia-cuda-runtime-cu12==12.4.127 in /usr/local/lib/python3.11/dist-packages (from torch<3.0.0,>=2.5.1->marker-pdf==1.4.0) (12.4.127)\n",
            "Requirement already satisfied: nvidia-cuda-cupti-cu12==12.4.127 in /usr/local/lib/python3.11/dist-packages (from torch<3.0.0,>=2.5.1->marker-pdf==1.4.0) (12.4.127)\n",
            "Requirement already satisfied: nvidia-cudnn-cu12==9.1.0.70 in /usr/local/lib/python3.11/dist-packages (from torch<3.0.0,>=2.5.1->marker-pdf==1.4.0) (9.1.0.70)\n",
            "Requirement already satisfied: nvidia-cublas-cu12==12.4.5.8 in /usr/local/lib/python3.11/dist-packages (from torch<3.0.0,>=2.5.1->marker-pdf==1.4.0) (12.4.5.8)\n",
            "Requirement already satisfied: nvidia-cufft-cu12==11.2.1.3 in /usr/local/lib/python3.11/dist-packages (from torch<3.0.0,>=2.5.1->marker-pdf==1.4.0) (11.2.1.3)\n",
            "Requirement already satisfied: nvidia-curand-cu12==10.3.5.147 in /usr/local/lib/python3.11/dist-packages (from torch<3.0.0,>=2.5.1->marker-pdf==1.4.0) (10.3.5.147)\n",
            "Requirement already satisfied: nvidia-cusolver-cu12==11.6.1.9 in /usr/local/lib/python3.11/dist-packages (from torch<3.0.0,>=2.5.1->marker-pdf==1.4.0) (11.6.1.9)\n",
            "Requirement already satisfied: nvidia-cusparse-cu12==12.3.1.170 in /usr/local/lib/python3.11/dist-packages (from torch<3.0.0,>=2.5.1->marker-pdf==1.4.0) (12.3.1.170)\n",
            "Requirement already satisfied: nvidia-nccl-cu12==2.21.5 in /usr/local/lib/python3.11/dist-packages (from torch<3.0.0,>=2.5.1->marker-pdf==1.4.0) (2.21.5)\n",
            "Requirement already satisfied: nvidia-nvtx-cu12==12.4.127 in /usr/local/lib/python3.11/dist-packages (from torch<3.0.0,>=2.5.1->marker-pdf==1.4.0) (12.4.127)\n",
            "Requirement already satisfied: nvidia-nvjitlink-cu12==12.4.127 in /usr/local/lib/python3.11/dist-packages (from torch<3.0.0,>=2.5.1->marker-pdf==1.4.0) (12.4.127)\n",
            "Requirement already satisfied: triton==3.1.0 in /usr/local/lib/python3.11/dist-packages (from torch<3.0.0,>=2.5.1->marker-pdf==1.4.0) (3.1.0)\n",
            "Requirement already satisfied: sympy==1.13.1 in /usr/local/lib/python3.11/dist-packages (from torch<3.0.0,>=2.5.1->marker-pdf==1.4.0) (1.13.1)\n",
            "Requirement already satisfied: mpmath<1.4,>=1.1.0 in /usr/local/lib/python3.11/dist-packages (from sympy==1.13.1->torch<3.0.0,>=2.5.1->marker-pdf==1.4.0) (1.3.0)\n",
            "Requirement already satisfied: huggingface-hub<1.0,>=0.24.0 in /usr/local/lib/python3.11/dist-packages (from transformers<5.0.0,>=4.45.2->marker-pdf==1.4.0) (0.28.1)\n",
            "Requirement already satisfied: packaging>=20.0 in /usr/local/lib/python3.11/dist-packages (from transformers<5.0.0,>=4.45.2->marker-pdf==1.4.0) (24.2)\n",
            "Requirement already satisfied: pyyaml>=5.1 in /usr/local/lib/python3.11/dist-packages (from transformers<5.0.0,>=4.45.2->marker-pdf==1.4.0) (6.0.2)\n",
            "Requirement already satisfied: tokenizers<0.22,>=0.21 in /usr/local/lib/python3.11/dist-packages (from transformers<5.0.0,>=4.45.2->marker-pdf==1.4.0) (0.21.0)\n",
            "Requirement already satisfied: safetensors>=0.4.1 in /usr/local/lib/python3.11/dist-packages (from transformers<5.0.0,>=4.45.2->marker-pdf==1.4.0) (0.5.2)\n",
            "Requirement already satisfied: soupsieve>1.2 in /usr/local/lib/python3.11/dist-packages (from beautifulsoup4<5,>=4.9->markdownify<0.14.0,>=0.13.1->marker-pdf==1.4.0) (2.6)\n",
            "Requirement already satisfied: cachetools<6.0,>=2.0.0 in /usr/local/lib/python3.11/dist-packages (from google-auth<3.0.0dev,>=2.14.1->google-genai<2.0.0,>=1.0.0->marker-pdf==1.4.0) (5.5.1)\n",
            "Requirement already satisfied: pyasn1-modules>=0.2.1 in /usr/local/lib/python3.11/dist-packages (from google-auth<3.0.0dev,>=2.14.1->google-genai<2.0.0,>=1.0.0->marker-pdf==1.4.0) (0.4.1)\n",
            "Requirement already satisfied: rsa<5,>=3.1.4 in /usr/local/lib/python3.11/dist-packages (from google-auth<3.0.0dev,>=2.14.1->google-genai<2.0.0,>=1.0.0->marker-pdf==1.4.0) (4.9)\n",
            "Requirement already satisfied: charset-normalizer<4,>=2 in /usr/local/lib/python3.11/dist-packages (from requests<3.0.0dev,>=2.28.1->google-genai<2.0.0,>=1.0.0->marker-pdf==1.4.0) (3.4.1)\n",
            "Requirement already satisfied: idna<4,>=2.5 in /usr/local/lib/python3.11/dist-packages (from requests<3.0.0dev,>=2.28.1->google-genai<2.0.0,>=1.0.0->marker-pdf==1.4.0) (3.10)\n",
            "Requirement already satisfied: urllib3<3,>=1.21.1 in /usr/local/lib/python3.11/dist-packages (from requests<3.0.0dev,>=2.28.1->google-genai<2.0.0,>=1.0.0->marker-pdf==1.4.0) (2.3.0)\n",
            "Requirement already satisfied: certifi>=2017.4.17 in /usr/local/lib/python3.11/dist-packages (from requests<3.0.0dev,>=2.28.1->google-genai<2.0.0,>=1.0.0->marker-pdf==1.4.0) (2025.1.31)\n",
            "Requirement already satisfied: MarkupSafe>=2.0 in /usr/local/lib/python3.11/dist-packages (from jinja2->torch<3.0.0,>=2.5.1->marker-pdf==1.4.0) (3.0.2)\n",
            "Requirement already satisfied: pyasn1<0.7.0,>=0.4.6 in /usr/local/lib/python3.11/dist-packages (from pyasn1-modules>=0.2.1->google-auth<3.0.0dev,>=2.14.1->google-genai<2.0.0,>=1.0.0->marker-pdf==1.4.0) (0.6.1)\n",
            "Building wheels for collected packages: marker-pdf\n",
            "  Building editable for marker-pdf (pyproject.toml) ... \u001b[?25l\u001b[?25hdone\n",
            "  Created wheel for marker-pdf: filename=marker_pdf-1.4.0-py3-none-any.whl size=22808 sha256=434449917c902de65f9be7dc9dd7f76d76979e745ca65f7e19ce4c907c3d91f2\n",
            "  Stored in directory: /tmp/pip-ephem-wheel-cache-n3mqsl_m/wheels/26/fd/a2/30fec3befe0eb33ac82866839cb61d98e998e76d7638df075c\n",
            "Successfully built marker-pdf\n",
            "Installing collected packages: marker-pdf\n",
            "  Attempting uninstall: marker-pdf\n",
            "    Found existing installation: marker-pdf 1.4.0\n",
            "    Uninstalling marker-pdf-1.4.0:\n",
            "      Successfully uninstalled marker-pdf-1.4.0\n",
            "Successfully installed marker-pdf-1.4.0\n"
          ]
        }
      ]
    },
    {
      "cell_type": "code",
      "source": [
        "!ls -la"
      ],
      "metadata": {
        "id": "LPspF78frzyL",
        "outputId": "5989ce21-d7c7-4f11-9fd1-0b0d1edd794b",
        "colab": {
          "base_uri": "https://localhost:8080/"
        }
      },
      "execution_count": 1,
      "outputs": [
        {
          "output_type": "stream",
          "name": "stdout",
          "text": [
            "total 11584\n",
            "drwxr-xr-x  1 root root     4096 Feb 12 10:53  .\n",
            "drwxr-xr-x  1 root root     4096 Feb 12 10:22  ..\n",
            "-rw-r--r--  1 root root 11828746 Feb 12 10:32 'annual_report_2020 from bse.pdf'\n",
            "drwxr-xr-x  4 root root     4096 Feb 10 14:24  .config\n",
            "drwxr-xr-x  3 root root     4096 Feb 12 10:53  data\n",
            "drwxr-xr-x  2 root root     4096 Feb 12 10:33  .ipynb_checkpoints\n",
            "drwxr-xr-x 10 root root     4096 Feb 12 10:30  marker\n",
            "drwxr-xr-x  3 root root     4096 Feb 12 10:35  outputs\n",
            "drwxr-xr-x  1 root root     4096 Feb 10 14:25  sample_data\n"
          ]
        }
      ]
    },
    {
      "cell_type": "code",
      "source": [
        "!marker_single \"annual_report_2020 from bse.pdf\""
      ],
      "metadata": {
        "id": "jorQAPGyubhT",
        "outputId": "1b385c8d-5b15-4162-c9c0-abae832e0767",
        "colab": {
          "base_uri": "https://localhost:8080/"
        }
      },
      "execution_count": null,
      "outputs": [
        {
          "output_type": "stream",
          "name": "stdout",
          "text": [
            "2025-02-12 11:03:15.938592: E external/local_xla/xla/stream_executor/cuda/cuda_fft.cc:477] Unable to register cuFFT factory: Attempting to register factory for plugin cuFFT when one has already been registered\n",
            "WARNING: All log messages before absl::InitializeLog() is called are written to STDERR\n",
            "E0000 00:00:1739358195.959204   10560 cuda_dnn.cc:8310] Unable to register cuDNN factory: Attempting to register factory for plugin cuDNN when one has already been registered\n",
            "E0000 00:00:1739358195.965512   10560 cuda_blas.cc:1418] Unable to register cuBLAS factory: Attempting to register factory for plugin cuBLAS when one has already been registered\n",
            "2025-02-12 11:03:15.987174: I tensorflow/core/platform/cpu_feature_guard.cc:210] This TensorFlow binary is optimized to use available CPU instructions in performance-critical operations.\n",
            "To enable the following instructions: AVX2 FMA, in other operations, rebuild TensorFlow with the appropriate compiler flags.\n",
            "Loaded layout model datalab-to/surya_layout on device cuda with dtype torch.float16\n",
            "Loaded texify model datalab-to/texify on device cuda with dtype torch.float16\n",
            "Loaded recognition model vikp/surya_rec2 on device cuda with dtype torch.float16\n",
            "Loaded table recognition model datalab-to/surya_tablerec on device cuda with dtype torch.float16\n",
            "Loaded detection model vikp/surya_det3 on device cuda with dtype torch.float16\n",
            "Recognizing layout: 100% 77/77 [01:24<00:00,  1.09s/it]\n",
            "Running OCR Error Detection: 100% 69/69 [00:01<00:00, 34.72it/s]\n",
            "Detecting bboxes: 0it [00:00, ?it/s]\n"
          ]
        }
      ]
    },
    {
      "cell_type": "code",
      "source": [
        "from typing import Dict, Any, List\n",
        "from pathlib import Path\n",
        "import torch\n",
        "from marker.converters.pdf import PdfConverter\n",
        "from marker.models import create_model_dict\n",
        "from marker.output import text_from_rendered\n",
        "import gc\n",
        "\n",
        "class PDFParser:\n",
        "    \"\"\"Parse PDFs to markdown using Marker with GPU optimization\"\"\"\n",
        "\n",
        "    def __init__(self, input_dir: str = \"data/raw\", output_dir: str = \"data/preprocessed\", batch_size: int = 4):\n",
        "        self.input_dir = Path(input_dir)\n",
        "        self.output_dir = Path(output_dir)\n",
        "        self.batch_size = batch_size\n",
        "\n",
        "        # Initialize device and model with optimizations\n",
        "        self.device = torch.device('cuda' if torch.cuda.is_available() else 'cpu')\n",
        "        print(f\"Using device: {self.device}\")\n",
        "\n",
        "        if torch.cuda.is_available():\n",
        "            # Enable TF32 for better performance on Ampere GPUs\n",
        "            torch.backends.cuda.matmul.allow_tf32 = True\n",
        "            torch.backends.cudnn.allow_tf32 = True\n",
        "            torch.cuda.empty_cache()\n",
        "            torch.backends.cudnn.benchmark = True\n",
        "\n",
        "        # Create model dictionary - note that create_model_dict() doesn't take precision param\n",
        "        self.model_dict = create_model_dict(device=self.device)\n",
        "\n",
        "        # Initialize converter with optimizations\n",
        "        self.converter = PdfConverter(\n",
        "            artifact_dict=self.model_dict,\n",
        "            config={\n",
        "                'batch_size': self.batch_size,\n",
        "                'force_ocr': False,  # Set to True if needed\n",
        "                'debug': False\n",
        "            }\n",
        "        )\n",
        "\n",
        "    @torch.amp.autocast(device_type='cuda')  # Updated autocast syntax\n",
        "    def process_batch(self, file_path: str) -> Dict[str, Any]:\n",
        "        \"\"\"Process PDF with optimized batch processing\"\"\"\n",
        "        try:\n",
        "            with torch.no_grad():  # Disable gradient computation\n",
        "                rendered = self.converter(file_path)\n",
        "                markdown, metadata, _ = text_from_rendered(rendered)\n",
        "\n",
        "                # Clear GPU cache after batch\n",
        "                if torch.cuda.is_available():\n",
        "                    torch.cuda.empty_cache()\n",
        "\n",
        "                return markdown, metadata\n",
        "\n",
        "        except Exception as e:\n",
        "            print(f\"Error in batch processing: {str(e)}\")\n",
        "            return None, None\n",
        "\n",
        "    def parse_pdf(self, company_code: str, file_path: str) -> Dict[str, Any]:\n",
        "        \"\"\"Parse a single PDF file to markdown with optimizations\"\"\"\n",
        "        try:\n",
        "            print(f\"\\nParsing PDF: {file_path}\")\n",
        "\n",
        "            # Create output directory\n",
        "            output_dir = self.output_dir / company_code / \"annual_reports\"\n",
        "            output_dir.mkdir(parents=True, exist_ok=True)\n",
        "\n",
        "            # Process PDF\n",
        "            markdown, metadata = self.process_batch(file_path)\n",
        "\n",
        "            if markdown:\n",
        "                # Save markdown\n",
        "                output_file = output_dir / f\"{Path(file_path).stem}.md\"\n",
        "                with open(output_file, \"w\", encoding=\"utf-8\") as f:\n",
        "                    f.write(markdown)\n",
        "\n",
        "                print(f\"Successfully parsed and saved to: {output_file}\")\n",
        "\n",
        "                # Clear memory\n",
        "                gc.collect()\n",
        "                if torch.cuda.is_available():\n",
        "                    torch.cuda.empty_cache()\n",
        "\n",
        "                return {\n",
        "                    \"output_file\": str(output_file),\n",
        "                    \"metadata\": metadata,\n",
        "                    \"status\": \"success\"\n",
        "                }\n",
        "\n",
        "            return None\n",
        "\n",
        "        except Exception as e:\n",
        "            print(f\"Error parsing PDF {file_path}: {str(e)}\")\n",
        "            return None\n",
        "\n",
        "if __name__ == \"__main__\":\n",
        "    # Test the parser\n",
        "    parser = PDFParser(batch_size=1)\n",
        "\n",
        "    # Example: Parse annual report\n",
        "    result = parser.parse_pdf(\n",
        "        company_code=\"500470\",\n",
        "        file_path=\"annual_report_2020 from bse.pdf\"\n",
        "    )\n",
        "\n",
        "    if result:\n",
        "        print(f\"\\nParsing completed:\")\n",
        "        print(f\"Output file: {result['output_file']}\")\n",
        "        print(f\"Status: {result['status']}\")"
      ],
      "metadata": {
        "id": "TmeOPzjypMIC",
        "outputId": "26352d62-cb12-4274-87a2-e3ab994998de",
        "colab": {
          "base_uri": "https://localhost:8080/"
        }
      },
      "execution_count": null,
      "outputs": [
        {
          "output_type": "stream",
          "name": "stdout",
          "text": [
            "Using device: cuda\n"
          ]
        },
        {
          "output_type": "stream",
          "name": "stderr",
          "text": [
            "/usr/local/lib/python3.11/dist-packages/huggingface_hub/utils/_auth.py:94: UserWarning: \n",
            "The secret `HF_TOKEN` does not exist in your Colab secrets.\n",
            "To authenticate with the Hugging Face Hub, create a token in your settings tab (https://huggingface.co/settings/tokens), set it as secret in your Google Colab and restart your session.\n",
            "You will be able to reuse this secret in all of your notebooks.\n",
            "Please note that authentication is recommended but still optional to access public models or datasets.\n",
            "  warnings.warn(\n"
          ]
        },
        {
          "output_type": "stream",
          "name": "stdout",
          "text": [
            "Loaded layout model datalab-to/surya_layout on device cuda with dtype torch.float16\n",
            "Loaded texify model datalab-to/texify on device cuda with dtype torch.float16\n",
            "Loaded recognition model vikp/surya_rec2 on device cuda with dtype torch.float16\n",
            "Loaded table recognition model datalab-to/surya_tablerec on device cuda with dtype torch.float16\n",
            "Loaded detection model vikp/surya_det3 on device cuda with dtype torch.float16\n",
            "\n",
            "Parsing PDF: annual_report_2020 from bse.pdf\n"
          ]
        }
      ]
    }
  ],
  "metadata": {
    "colab": {
      "name": "Welcome To Colab",
      "provenance": [],
      "gpuType": "T4",
      "include_colab_link": true
    },
    "kernelspec": {
      "display_name": "Python 3",
      "name": "python3"
    },
    "accelerator": "GPU"
  },
  "nbformat": 4,
  "nbformat_minor": 0
}